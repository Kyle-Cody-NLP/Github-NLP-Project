{
 "cells": [
  {
   "cell_type": "markdown",
   "id": "42263118",
   "metadata": {},
   "source": [
    "## Imports"
   ]
  },
  {
   "cell_type": "code",
   "execution_count": 1,
   "id": "f5a9ffb2",
   "metadata": {},
   "outputs": [],
   "source": [
    "import pandas as pd\n",
    "import modeling as md\n",
    "import split\n",
    "import numpy as np\n",
    "import nltk\n",
    "from itertools import chain,cycle\n",
    "from IPython.display import display_html\n",
    "import utilities\n",
    "import matplotlib.pyplot as plt\n",
    "from sklearn.neighbors import KNeighborsClassifier\n",
    "from sklearn.metrics import classification_report, accuracy_score\n",
    "from sklearn.feature_extraction.text import TfidfVectorizer\n",
    "\n",
    "\n",
    "import exploration\n",
    "import modeling as md\n",
    "import split\n",
    "\n",
    "gren = '#82c7a5'\n",
    "\n",
    "%load_ext autoreload\n",
    "%autoreload 2"
   ]
  },
  {
   "cell_type": "markdown",
   "id": "e0497b0f",
   "metadata": {},
   "source": [
    "# Project Goals:\n",
    "\n",
    "> * Identify elements of a README contents in order to predict the Github repository's primary programming language.\n",
    "> * Create a predictive model that can take in the text of a Github repository's README and determine that repository's primary language.\n"
   ]
  },
  {
   "cell_type": "markdown",
   "id": "a91442c0",
   "metadata": {},
   "source": [
    "## Executive Summary"
   ]
  },
  {
   "cell_type": "markdown",
   "id": "5ebe63ec",
   "metadata": {},
   "source": [
    "### The 3 most popular programming languages used when dealing with Cryptography were:\n",
    "> * Python, C++, Java\n",
    "### The most common words that were used across all the README files were:\n",
    "> * key, use/using, build, cryptography, test, crypto, library, hash, function, io\n",
    "> * The top 10 words account for 5% of the words found in README files.\n",
    "### Most common words that are related to cryptography:\n",
    "> * key , cryptography, crypto, hash\n",
    "> * Our K Nearest Neighbor model beat baseline with a test sample accuracy of 52.44%, which is a 192% increase in accuracy when compared to baseline.\n"
   ]
  },
  {
   "cell_type": "markdown",
   "id": "19c8247c",
   "metadata": {},
   "source": [
    "### Acquire/Load Data"
   ]
  },
  {
   "cell_type": "code",
   "execution_count": 2,
   "id": "0b478232",
   "metadata": {},
   "outputs": [
    {
     "data": {
      "text/html": [
       "<div>\n",
       "<style scoped>\n",
       "    .dataframe tbody tr th:only-of-type {\n",
       "        vertical-align: middle;\n",
       "    }\n",
       "\n",
       "    .dataframe tbody tr th {\n",
       "        vertical-align: top;\n",
       "    }\n",
       "\n",
       "    .dataframe thead th {\n",
       "        text-align: right;\n",
       "    }\n",
       "</style>\n",
       "<table border=\"1\" class=\"dataframe\">\n",
       "  <thead>\n",
       "    <tr style=\"text-align: right;\">\n",
       "      <th></th>\n",
       "      <th>repo</th>\n",
       "      <th>language</th>\n",
       "      <th>readme_contents</th>\n",
       "      <th>cleaned</th>\n",
       "      <th>without_stop_words</th>\n",
       "      <th>tokenized</th>\n",
       "      <th>stem</th>\n",
       "      <th>lemm</th>\n",
       "    </tr>\n",
       "  </thead>\n",
       "  <tbody>\n",
       "    <tr>\n",
       "      <th>0</th>\n",
       "      <td>pyca/cryptography</td>\n",
       "      <td>Python</td>\n",
       "      <td>pyca/cryptography\\n=================\\n\\n.. ima...</td>\n",
       "      <td>pyca cryptography image https img shields io p...</td>\n",
       "      <td>pyca cryptography image https img shields io p...</td>\n",
       "      <td>pyca cryptography image https img shields io p...</td>\n",
       "      <td>pyca cryptographi imag http img shield io pypi...</td>\n",
       "      <td>pyca cryptography image http img shield io pyp...</td>\n",
       "    </tr>\n",
       "    <tr>\n",
       "      <th>2</th>\n",
       "      <td>randombit/botan</td>\n",
       "      <td>C++</td>\n",
       "      <td>Botan: Crypto and TLS for Modern C++\\n========...</td>\n",
       "      <td>botan crypto tls modern c botan japanese peony...</td>\n",
       "      <td>botan crypto tls modern c botan japanese peony...</td>\n",
       "      <td>botan crypto tls modern c botan japanese peony...</td>\n",
       "      <td>botan crypto tl modern c botan japanes peoni f...</td>\n",
       "      <td>botan crypto tl modern c botan japanese peony ...</td>\n",
       "    </tr>\n",
       "  </tbody>\n",
       "</table>\n",
       "</div>"
      ],
      "text/plain": [
       "                repo language  \\\n",
       "0  pyca/cryptography   Python   \n",
       "2    randombit/botan      C++   \n",
       "\n",
       "                                     readme_contents  \\\n",
       "0  pyca/cryptography\\n=================\\n\\n.. ima...   \n",
       "2  Botan: Crypto and TLS for Modern C++\\n========...   \n",
       "\n",
       "                                             cleaned  \\\n",
       "0  pyca cryptography image https img shields io p...   \n",
       "2  botan crypto tls modern c botan japanese peony...   \n",
       "\n",
       "                                  without_stop_words  \\\n",
       "0  pyca cryptography image https img shields io p...   \n",
       "2  botan crypto tls modern c botan japanese peony...   \n",
       "\n",
       "                                           tokenized  \\\n",
       "0  pyca cryptography image https img shields io p...   \n",
       "2  botan crypto tls modern c botan japanese peony...   \n",
       "\n",
       "                                                stem  \\\n",
       "0  pyca cryptographi imag http img shield io pypi...   \n",
       "2  botan crypto tl modern c botan japanes peoni f...   \n",
       "\n",
       "                                                lemm  \n",
       "0  pyca cryptography image http img shield io pyp...  \n",
       "2  botan crypto tl modern c botan japanese peony ...  "
      ]
     },
     "execution_count": 2,
     "metadata": {},
     "output_type": "execute_result"
    }
   ],
   "source": [
    "# Read data from csv\n",
    "df = pd.read_csv('final_data.csv')\n",
    "df = df.dropna()\n",
    "df.head(2)"
   ]
  },
  {
   "cell_type": "markdown",
   "id": "f732ed07",
   "metadata": {},
   "source": [
    "## Most Frequent Words, Bigrams and Trigrams"
   ]
  },
  {
   "cell_type": "markdown",
   "id": "90c8bada",
   "metadata": {},
   "source": [
    "<img src='images/words_bigrams_trigrams.png'>"
   ]
  },
  {
   "cell_type": "markdown",
   "id": "e139fab2",
   "metadata": {},
   "source": [
    "### Frequency of Top Words"
   ]
  },
  {
   "cell_type": "code",
   "execution_count": 3,
   "id": "cb7e9cc5",
   "metadata": {},
   "outputs": [
    {
     "data": {
      "image/png": "[encoded data removed]",
      "text/plain": [
       "<Figure size 432x288 with 1 Axes>"
      ]
     },
     "metadata": {
      "needs_background": "light"
     },
     "output_type": "display_data"
    }
   ],
   "source": [
    "top_words = utilities.most_frequent_words(df)\n",
    "utilities.plot_top_words(top_words)"
   ]
  },
  {
   "cell_type": "markdown",
   "id": "fcafc1f7",
   "metadata": {},
   "source": [
    "### Takeaways:\n",
    "**Top Words**\n",
    "> * About half of the top words are related strictly to cryptography.\n",
    "> * The top words make up about 5% of all words in the READMEs even though they are .05% of all unique words.\n",
    "\n",
    "**Bigrams**\n",
    "> * The important bigrams (i.e. not html tags) mainly consist of nist (National Institute of Standards and Technology), ACVP (Automated Cryptographic Validation Protocol), private and public key, and elliptic curve. All of these are related to cryptography.\n",
    "\n",
    "**Trigrams**\n",
    "> * ACVP is once again prevalent, as well as wikipedia. It seems that wikipedia articles were presented frequently.\n"
   ]
  },
  {
   "cell_type": "markdown",
   "id": "ab409c9b",
   "metadata": {},
   "source": [
    "## Top 3 Languages:"
   ]
  },
  {
   "cell_type": "markdown",
   "id": "203455b1",
   "metadata": {},
   "source": [
    "<img src='images/words.png'>"
   ]
  },
  {
   "cell_type": "markdown",
   "id": "3d57bafe",
   "metadata": {},
   "source": [
    "***C++, Python, Java***"
   ]
  },
  {
   "cell_type": "code",
   "execution_count": 4,
   "id": "7a53a227",
   "metadata": {
    "scrolled": false
   },
   "outputs": [
    {
     "data": {
      "text/html": [
       "<th style=\"text-align:center\"><td style=\"vertical-align:top\"><h2></h2><table style=\"display:inline\" border=\"1\" class=\"dataframe\">\n",
       "  <thead>\n",
       "    <tr style=\"text-align: right;\">\n",
       "      <th></th>\n",
       "      <th>python</th>\n",
       "    </tr>\n",
       "  </thead>\n",
       "  <tbody>\n",
       "    <tr>\n",
       "      <th>http</th>\n",
       "      <td>874</td>\n",
       "    </tr>\n",
       "    <tr>\n",
       "      <th>key</th>\n",
       "      <td>649</td>\n",
       "    </tr>\n",
       "    <tr>\n",
       "      <th>com</th>\n",
       "      <td>609</td>\n",
       "    </tr>\n",
       "    <tr>\n",
       "      <th>0</th>\n",
       "      <td>430</td>\n",
       "    </tr>\n",
       "    <tr>\n",
       "      <th>attack</th>\n",
       "      <td>362</td>\n",
       "    </tr>\n",
       "    <tr>\n",
       "      <th>python</th>\n",
       "      <td>334</td>\n",
       "    </tr>\n",
       "    <tr>\n",
       "      <th>li</th>\n",
       "      <td>324</td>\n",
       "    </tr>\n",
       "    <tr>\n",
       "      <th>ul</th>\n",
       "      <td>324</td>\n",
       "    </tr>\n",
       "    <tr>\n",
       "      <th>master</th>\n",
       "      <td>323</td>\n",
       "    </tr>\n",
       "    <tr>\n",
       "      <th>cryptography</th>\n",
       "      <td>323</td>\n",
       "    </tr>\n",
       "    <tr>\n",
       "      <th>x</th>\n",
       "      <td>313</td>\n",
       "    </tr>\n",
       "    <tr>\n",
       "      <th>1</th>\n",
       "      <td>307</td>\n",
       "    </tr>\n",
       "    <tr>\n",
       "      <th>py</th>\n",
       "      <td>306</td>\n",
       "    </tr>\n",
       "    <tr>\n",
       "      <th>encryption</th>\n",
       "      <td>247</td>\n",
       "    </tr>\n",
       "    <tr>\n",
       "      <th>message</th>\n",
       "      <td>234</td>\n",
       "    </tr>\n",
       "  </tbody>\n",
       "</table style=\"display:inline\"></td></th><th style=\"text-align:center\"><td style=\"vertical-align:top\"><h2></h2><table style=\"display:inline\" border=\"1\" class=\"dataframe\">\n",
       "  <thead>\n",
       "    <tr style=\"text-align: right;\">\n",
       "      <th></th>\n",
       "      <th>C++</th>\n",
       "    </tr>\n",
       "  </thead>\n",
       "  <tbody>\n",
       "    <tr>\n",
       "      <th>http</th>\n",
       "      <td>681</td>\n",
       "    </tr>\n",
       "    <tr>\n",
       "      <th>com</th>\n",
       "      <td>502</td>\n",
       "    </tr>\n",
       "    <tr>\n",
       "      <th>build</th>\n",
       "      <td>379</td>\n",
       "    </tr>\n",
       "    <tr>\n",
       "      <th>0</th>\n",
       "      <td>236</td>\n",
       "    </tr>\n",
       "    <tr>\n",
       "      <th>library</th>\n",
       "      <td>220</td>\n",
       "    </tr>\n",
       "    <tr>\n",
       "      <th>use</th>\n",
       "      <td>213</td>\n",
       "    </tr>\n",
       "    <tr>\n",
       "      <th>key</th>\n",
       "      <td>202</td>\n",
       "    </tr>\n",
       "    <tr>\n",
       "      <th>1</th>\n",
       "      <td>194</td>\n",
       "    </tr>\n",
       "    <tr>\n",
       "      <th>install</th>\n",
       "      <td>188</td>\n",
       "    </tr>\n",
       "    <tr>\n",
       "      <th>seal</th>\n",
       "      <td>184</td>\n",
       "    </tr>\n",
       "    <tr>\n",
       "      <th>c</th>\n",
       "      <td>183</td>\n",
       "    </tr>\n",
       "    <tr>\n",
       "      <th>cmake</th>\n",
       "      <td>179</td>\n",
       "    </tr>\n",
       "    <tr>\n",
       "      <th>org</th>\n",
       "      <td>176</td>\n",
       "    </tr>\n",
       "    <tr>\n",
       "      <th>project</th>\n",
       "      <td>160</td>\n",
       "    </tr>\n",
       "    <tr>\n",
       "      <th>make</th>\n",
       "      <td>159</td>\n",
       "    </tr>\n",
       "  </tbody>\n",
       "</table style=\"display:inline\"></td></th><th style=\"text-align:center\"><td style=\"vertical-align:top\"><h2></h2><table style=\"display:inline\" border=\"1\" class=\"dataframe\">\n",
       "  <thead>\n",
       "    <tr style=\"text-align: right;\">\n",
       "      <th></th>\n",
       "      <th>java</th>\n",
       "    </tr>\n",
       "  </thead>\n",
       "  <tbody>\n",
       "    <tr>\n",
       "      <th>java</th>\n",
       "      <td>232</td>\n",
       "    </tr>\n",
       "    <tr>\n",
       "      <th>http</th>\n",
       "      <td>209</td>\n",
       "    </tr>\n",
       "    <tr>\n",
       "      <th>com</th>\n",
       "      <td>200</td>\n",
       "    </tr>\n",
       "    <tr>\n",
       "      <th>cryptography</th>\n",
       "      <td>197</td>\n",
       "    </tr>\n",
       "    <tr>\n",
       "      <th>key</th>\n",
       "      <td>141</td>\n",
       "    </tr>\n",
       "    <tr>\n",
       "      <th>src</th>\n",
       "      <td>116</td>\n",
       "    </tr>\n",
       "    <tr>\n",
       "      <th>test</th>\n",
       "      <td>97</td>\n",
       "    </tr>\n",
       "    <tr>\n",
       "      <th>master</th>\n",
       "      <td>82</td>\n",
       "    </tr>\n",
       "    <tr>\n",
       "      <th>blob</th>\n",
       "      <td>75</td>\n",
       "    </tr>\n",
       "    <tr>\n",
       "      <th>norkator</th>\n",
       "      <td>73</td>\n",
       "    </tr>\n",
       "    <tr>\n",
       "      <th>see</th>\n",
       "      <td>69</td>\n",
       "    </tr>\n",
       "    <tr>\n",
       "      <th>encryption</th>\n",
       "      <td>67</td>\n",
       "    </tr>\n",
       "    <tr>\n",
       "      <th>hash</th>\n",
       "      <td>67</td>\n",
       "    </tr>\n",
       "    <tr>\n",
       "      <th>org</th>\n",
       "      <td>67</td>\n",
       "    </tr>\n",
       "    <tr>\n",
       "      <th>aes</th>\n",
       "      <td>65</td>\n",
       "    </tr>\n",
       "  </tbody>\n",
       "</table style=\"display:inline\"></td></th>"
      ]
     },
     "metadata": {},
     "output_type": "display_data"
    }
   ],
   "source": [
    "# Create a dictionary of top 15 words per language,\n",
    "# then display the top 3 (python, c++, java)\n",
    "\n",
    "language_dict = utilities.make_language_dict(df)\n",
    "python_df = pd.DataFrame({'python': language_dict['Python']})\n",
    "cplusplus_df = pd.DataFrame({'C++': language_dict['C++']})\n",
    "java_df = pd.DataFrame({'java': language_dict['Java']})\n",
    "\n",
    "utilities.display_side_by_side(python_df, cplusplus_df, java_df)"
   ]
  },
  {
   "cell_type": "markdown",
   "id": "25234353",
   "metadata": {},
   "source": [
    "### Takeaways:\n",
    "**Python**\n",
    "> **key**, **attack**, and **python** appeared the most\n",
    "\n",
    "**C++**\n",
    "> **build**, **library**, and **use** appeared the most\n",
    "\n",
    "**Java**\n",
    "> **Java**, **cryptography** and **key** appeared the most"
   ]
  },
  {
   "cell_type": "markdown",
   "id": "3fd80981",
   "metadata": {},
   "source": [
    "****Note: Protocols, domain names, lone numbers, and html tags were ignored when selecting the top 3 words for each language.****"
   ]
  },
  {
   "cell_type": "markdown",
   "id": "e1152e2c",
   "metadata": {},
   "source": [
    "## Modeling"
   ]
  },
  {
   "cell_type": "markdown",
   "id": "1c46a646",
   "metadata": {},
   "source": [
    "### Goal: Create a classification model that can predict the programming language of a repo given the repo's README.md"
   ]
  },
  {
   "cell_type": "markdown",
   "id": "c69909be",
   "metadata": {},
   "source": [
    "### Baseline Accuracy (Mode): Python - 17.96%"
   ]
  },
  {
   "cell_type": "markdown",
   "id": "b7a5b57f",
   "metadata": {},
   "source": [
    "## Encoded Model"
   ]
  },
  {
   "cell_type": "code",
   "execution_count": 18,
   "id": "1a724582",
   "metadata": {
    "scrolled": true
   },
   "outputs": [
    {
     "data": {
      "text/html": [
       "<div>\n",
       "<style scoped>\n",
       "    .dataframe tbody tr th:only-of-type {\n",
       "        vertical-align: middle;\n",
       "    }\n",
       "\n",
       "    .dataframe tbody tr th {\n",
       "        vertical-align: top;\n",
       "    }\n",
       "\n",
       "    .dataframe thead th {\n",
       "        text-align: right;\n",
       "    }\n",
       "</style>\n",
       "<table border=\"1\" class=\"dataframe\">\n",
       "  <thead>\n",
       "    <tr style=\"text-align: right;\">\n",
       "      <th></th>\n",
       "      <th>00</th>\n",
       "      <th>00 00</th>\n",
       "      <th>00 00 00</th>\n",
       "      <th>00 00 01</th>\n",
       "      <th>00 00 02</th>\n",
       "      <th>00 00 0f</th>\n",
       "      <th>00 00 2b</th>\n",
       "      <th>00 00033s</th>\n",
       "      <th>00 00033s 3020</th>\n",
       "      <th>00 00069s</th>\n",
       "      <th>...</th>\n",
       "      <th>zz</th>\n",
       "      <th>zz pi</th>\n",
       "      <th>zz pi oo</th>\n",
       "      <th>zz rr</th>\n",
       "      <th>zz rr 265</th>\n",
       "      <th>zz rr 292</th>\n",
       "      <th>zz59mmox75d</th>\n",
       "      <th>zz59mmox75d fgairxy2cufstoel</th>\n",
       "      <th>zz59mmox75d fgairxy2cufstoel gieae0m</th>\n",
       "      <th>programming_language_99</th>\n",
       "    </tr>\n",
       "  </thead>\n",
       "  <tbody>\n",
       "    <tr>\n",
       "      <th>0</th>\n",
       "      <td>0.0</td>\n",
       "      <td>0.0</td>\n",
       "      <td>0.0</td>\n",
       "      <td>0.0</td>\n",
       "      <td>0.0</td>\n",
       "      <td>0.0</td>\n",
       "      <td>0.0</td>\n",
       "      <td>0.0</td>\n",
       "      <td>0.0</td>\n",
       "      <td>0.0</td>\n",
       "      <td>...</td>\n",
       "      <td>0.0</td>\n",
       "      <td>0.0</td>\n",
       "      <td>0.0</td>\n",
       "      <td>0.0</td>\n",
       "      <td>0.0</td>\n",
       "      <td>0.0</td>\n",
       "      <td>0.0</td>\n",
       "      <td>0.0</td>\n",
       "      <td>0.0</td>\n",
       "      <td>Python</td>\n",
       "    </tr>\n",
       "    <tr>\n",
       "      <th>1</th>\n",
       "      <td>0.0</td>\n",
       "      <td>0.0</td>\n",
       "      <td>0.0</td>\n",
       "      <td>0.0</td>\n",
       "      <td>0.0</td>\n",
       "      <td>0.0</td>\n",
       "      <td>0.0</td>\n",
       "      <td>0.0</td>\n",
       "      <td>0.0</td>\n",
       "      <td>0.0</td>\n",
       "      <td>...</td>\n",
       "      <td>0.0</td>\n",
       "      <td>0.0</td>\n",
       "      <td>0.0</td>\n",
       "      <td>0.0</td>\n",
       "      <td>0.0</td>\n",
       "      <td>0.0</td>\n",
       "      <td>0.0</td>\n",
       "      <td>0.0</td>\n",
       "      <td>0.0</td>\n",
       "      <td>C++</td>\n",
       "    </tr>\n",
       "    <tr>\n",
       "      <th>2</th>\n",
       "      <td>0.0</td>\n",
       "      <td>0.0</td>\n",
       "      <td>0.0</td>\n",
       "      <td>0.0</td>\n",
       "      <td>0.0</td>\n",
       "      <td>0.0</td>\n",
       "      <td>0.0</td>\n",
       "      <td>0.0</td>\n",
       "      <td>0.0</td>\n",
       "      <td>0.0</td>\n",
       "      <td>...</td>\n",
       "      <td>0.0</td>\n",
       "      <td>0.0</td>\n",
       "      <td>0.0</td>\n",
       "      <td>0.0</td>\n",
       "      <td>0.0</td>\n",
       "      <td>0.0</td>\n",
       "      <td>0.0</td>\n",
       "      <td>0.0</td>\n",
       "      <td>0.0</td>\n",
       "      <td>Go</td>\n",
       "    </tr>\n",
       "  </tbody>\n",
       "</table>\n",
       "<p>3 rows × 363259 columns</p>\n",
       "</div>"
      ],
      "text/plain": [
       "    00  00 00  00 00 00  00 00 01  00 00 02  00 00 0f  00 00 2b  00 00033s  \\\n",
       "0  0.0    0.0       0.0       0.0       0.0       0.0       0.0        0.0   \n",
       "1  0.0    0.0       0.0       0.0       0.0       0.0       0.0        0.0   \n",
       "2  0.0    0.0       0.0       0.0       0.0       0.0       0.0        0.0   \n",
       "\n",
       "   00 00033s 3020  00 00069s  ...   zz  zz pi  zz pi oo  zz rr  zz rr 265  \\\n",
       "0             0.0        0.0  ...  0.0    0.0       0.0    0.0        0.0   \n",
       "1             0.0        0.0  ...  0.0    0.0       0.0    0.0        0.0   \n",
       "2             0.0        0.0  ...  0.0    0.0       0.0    0.0        0.0   \n",
       "\n",
       "   zz rr 292  zz59mmox75d  zz59mmox75d fgairxy2cufstoel  \\\n",
       "0        0.0          0.0                           0.0   \n",
       "1        0.0          0.0                           0.0   \n",
       "2        0.0          0.0                           0.0   \n",
       "\n",
       "   zz59mmox75d fgairxy2cufstoel gieae0m  programming_language_99  \n",
       "0                                   0.0                   Python  \n",
       "1                                   0.0                      C++  \n",
       "2                                   0.0                       Go  \n",
       "\n",
       "[3 rows x 363259 columns]"
      ]
     },
     "execution_count": 18,
     "metadata": {},
     "output_type": "execute_result"
    }
   ],
   "source": [
    "# creates encoded dataframe based off of original dataframe\n",
    "# includes bigrams and trigrams in model\n",
    "encoded_df = utilities.create_encoded_df(df)\n",
    "encoded_df.head(3)"
   ]
  },
  {
   "cell_type": "markdown",
   "id": "4eb05782",
   "metadata": {},
   "source": [
    "### Train, Validate, Test"
   ]
  },
  {
   "cell_type": "code",
   "execution_count": 6,
   "id": "72cc2bd3",
   "metadata": {},
   "outputs": [],
   "source": [
    "# creates train, validate, test from original df\n",
    "# df should be encoded and should have target var column\n",
    "train, validate, test = split.train_validate_test_split(encoded_df, 'programming_language_99')"
   ]
  },
  {
   "cell_type": "markdown",
   "id": "cc9779db",
   "metadata": {},
   "source": [
    "## Different Model Types and Performance"
   ]
  },
  {
   "cell_type": "code",
   "execution_count": 10,
   "id": "98200616",
   "metadata": {},
   "outputs": [
    {
     "data": {
      "text/html": [
       "<div>\n",
       "<style scoped>\n",
       "    .dataframe tbody tr th:only-of-type {\n",
       "        vertical-align: middle;\n",
       "    }\n",
       "\n",
       "    .dataframe tbody tr th {\n",
       "        vertical-align: top;\n",
       "    }\n",
       "\n",
       "    .dataframe thead th {\n",
       "        text-align: right;\n",
       "    }\n",
       "</style>\n",
       "<table border=\"1\" class=\"dataframe\">\n",
       "  <thead>\n",
       "    <tr style=\"text-align: right;\">\n",
       "      <th></th>\n",
       "      <th>model_type</th>\n",
       "      <th>depth</th>\n",
       "      <th>train_accuracy</th>\n",
       "      <th>validate_accuracy</th>\n",
       "      <th>difference</th>\n",
       "      <th>percent_diff</th>\n",
       "      <th>min_samples_leaf</th>\n",
       "      <th>n_nearest_neighbor</th>\n",
       "      <th>C</th>\n",
       "    </tr>\n",
       "  </thead>\n",
       "  <tbody>\n",
       "    <tr>\n",
       "      <th>0</th>\n",
       "      <td>decision_tree</td>\n",
       "      <td>1.0</td>\n",
       "      <td>0.277533</td>\n",
       "      <td>0.265306</td>\n",
       "      <td>0.012227</td>\n",
       "      <td>4.41</td>\n",
       "      <td>NaN</td>\n",
       "      <td>NaN</td>\n",
       "      <td>NaN</td>\n",
       "    </tr>\n",
       "    <tr>\n",
       "      <th>1</th>\n",
       "      <td>decision_tree</td>\n",
       "      <td>2.0</td>\n",
       "      <td>0.370044</td>\n",
       "      <td>0.306122</td>\n",
       "      <td>0.063922</td>\n",
       "      <td>17.27</td>\n",
       "      <td>NaN</td>\n",
       "      <td>NaN</td>\n",
       "      <td>NaN</td>\n",
       "    </tr>\n",
       "    <tr>\n",
       "      <th>2</th>\n",
       "      <td>decision_tree</td>\n",
       "      <td>3.0</td>\n",
       "      <td>0.427313</td>\n",
       "      <td>0.346939</td>\n",
       "      <td>0.080374</td>\n",
       "      <td>18.81</td>\n",
       "      <td>NaN</td>\n",
       "      <td>NaN</td>\n",
       "      <td>NaN</td>\n",
       "    </tr>\n",
       "    <tr>\n",
       "      <th>3</th>\n",
       "      <td>decision_tree</td>\n",
       "      <td>4.0</td>\n",
       "      <td>0.475771</td>\n",
       "      <td>0.377551</td>\n",
       "      <td>0.098220</td>\n",
       "      <td>20.64</td>\n",
       "      <td>NaN</td>\n",
       "      <td>NaN</td>\n",
       "      <td>NaN</td>\n",
       "    </tr>\n",
       "    <tr>\n",
       "      <th>4</th>\n",
       "      <td>decision_tree</td>\n",
       "      <td>5.0</td>\n",
       "      <td>0.519824</td>\n",
       "      <td>0.387755</td>\n",
       "      <td>0.132069</td>\n",
       "      <td>25.41</td>\n",
       "      <td>NaN</td>\n",
       "      <td>NaN</td>\n",
       "      <td>NaN</td>\n",
       "    </tr>\n",
       "  </tbody>\n",
       "</table>\n",
       "</div>"
      ],
      "text/plain": [
       "      model_type  depth  train_accuracy  validate_accuracy  difference  \\\n",
       "0  decision_tree    1.0        0.277533           0.265306    0.012227   \n",
       "1  decision_tree    2.0        0.370044           0.306122    0.063922   \n",
       "2  decision_tree    3.0        0.427313           0.346939    0.080374   \n",
       "3  decision_tree    4.0        0.475771           0.377551    0.098220   \n",
       "4  decision_tree    5.0        0.519824           0.387755    0.132069   \n",
       "\n",
       "   percent_diff  min_samples_leaf  n_nearest_neighbor   C  \n",
       "0          4.41               NaN                 NaN NaN  \n",
       "1         17.27               NaN                 NaN NaN  \n",
       "2         18.81               NaN                 NaN NaN  \n",
       "3         20.64               NaN                 NaN NaN  \n",
       "4         25.41               NaN                 NaN NaN  "
      ]
     },
     "execution_count": 10,
     "metadata": {},
     "output_type": "execute_result"
    }
   ],
   "source": [
    "# creates about ~150 different classification models\n",
    "# with varying parameters\n",
    "md.all_reports(train, validate, test, 'programming_language_99')\n",
    "\n",
    "# This is a dataframe of the results,\n",
    "# you can sort it and access columns like any\n",
    "# normal df.\n",
    "md.Results.total_summary.head()"
   ]
  },
  {
   "cell_type": "code",
   "execution_count": 16,
   "id": "6ebcf304",
   "metadata": {},
   "outputs": [
    {
     "data": {
      "text/plain": [
       "model_type\n",
       "decision_tree          0.012227\n",
       "knn_distance           0.459184\n",
       "knn_uniform           -0.000360\n",
       "logistic_regression    0.500000\n",
       "random_forests         0.007147\n",
       "Name: difference, dtype: float64"
      ]
     },
     "execution_count": 16,
     "metadata": {},
     "output_type": "execute_result"
    }
   ],
   "source": [
    "summary = md.Results.total_summary\n",
    "summary.groupby('model_type').difference.min()"
   ]
  },
  {
   "cell_type": "markdown",
   "id": "84dd853f",
   "metadata": {},
   "source": [
    "#### KNN and Random Forests seem to have the least difference between train and validate sets (no overfitting). Checking validate accuracy for Random Forests and KNN to see which ones perform better."
   ]
  },
  {
   "cell_type": "code",
   "execution_count": 17,
   "id": "de6e696d",
   "metadata": {},
   "outputs": [
    {
     "data": {
      "text/html": [
       "<div>\n",
       "<style scoped>\n",
       "    .dataframe tbody tr th:only-of-type {\n",
       "        vertical-align: middle;\n",
       "    }\n",
       "\n",
       "    .dataframe tbody tr th {\n",
       "        vertical-align: top;\n",
       "    }\n",
       "\n",
       "    .dataframe thead th {\n",
       "        text-align: right;\n",
       "    }\n",
       "</style>\n",
       "<table border=\"1\" class=\"dataframe\">\n",
       "  <thead>\n",
       "    <tr style=\"text-align: right;\">\n",
       "      <th></th>\n",
       "      <th>model_type</th>\n",
       "      <th>depth</th>\n",
       "      <th>train_accuracy</th>\n",
       "      <th>validate_accuracy</th>\n",
       "      <th>difference</th>\n",
       "      <th>percent_diff</th>\n",
       "      <th>min_samples_leaf</th>\n",
       "      <th>n_nearest_neighbor</th>\n",
       "      <th>C</th>\n",
       "    </tr>\n",
       "  </thead>\n",
       "  <tbody>\n",
       "    <tr>\n",
       "      <th>10</th>\n",
       "      <td>knn_uniform</td>\n",
       "      <td>NaN</td>\n",
       "      <td>0.550661</td>\n",
       "      <td>0.551020</td>\n",
       "      <td>-0.000360</td>\n",
       "      <td>-0.07</td>\n",
       "      <td>NaN</td>\n",
       "      <td>11.0</td>\n",
       "      <td>NaN</td>\n",
       "    </tr>\n",
       "    <tr>\n",
       "      <th>7</th>\n",
       "      <td>knn_uniform</td>\n",
       "      <td>NaN</td>\n",
       "      <td>0.594714</td>\n",
       "      <td>0.540816</td>\n",
       "      <td>0.053897</td>\n",
       "      <td>9.06</td>\n",
       "      <td>NaN</td>\n",
       "      <td>8.0</td>\n",
       "      <td>NaN</td>\n",
       "    </tr>\n",
       "    <tr>\n",
       "      <th>8</th>\n",
       "      <td>knn_uniform</td>\n",
       "      <td>NaN</td>\n",
       "      <td>0.581498</td>\n",
       "      <td>0.530612</td>\n",
       "      <td>0.050886</td>\n",
       "      <td>8.75</td>\n",
       "      <td>NaN</td>\n",
       "      <td>9.0</td>\n",
       "      <td>NaN</td>\n",
       "    </tr>\n",
       "    <tr>\n",
       "      <th>13</th>\n",
       "      <td>knn_uniform</td>\n",
       "      <td>NaN</td>\n",
       "      <td>0.585903</td>\n",
       "      <td>0.520408</td>\n",
       "      <td>0.065495</td>\n",
       "      <td>11.18</td>\n",
       "      <td>NaN</td>\n",
       "      <td>14.0</td>\n",
       "      <td>NaN</td>\n",
       "    </tr>\n",
       "    <tr>\n",
       "      <th>11</th>\n",
       "      <td>knn_uniform</td>\n",
       "      <td>NaN</td>\n",
       "      <td>0.555066</td>\n",
       "      <td>0.510204</td>\n",
       "      <td>0.044862</td>\n",
       "      <td>8.08</td>\n",
       "      <td>NaN</td>\n",
       "      <td>12.0</td>\n",
       "      <td>NaN</td>\n",
       "    </tr>\n",
       "    <tr>\n",
       "      <th>9</th>\n",
       "      <td>knn_uniform</td>\n",
       "      <td>NaN</td>\n",
       "      <td>0.585903</td>\n",
       "      <td>0.510204</td>\n",
       "      <td>0.075699</td>\n",
       "      <td>12.92</td>\n",
       "      <td>NaN</td>\n",
       "      <td>10.0</td>\n",
       "      <td>NaN</td>\n",
       "    </tr>\n",
       "    <tr>\n",
       "      <th>12</th>\n",
       "      <td>knn_uniform</td>\n",
       "      <td>NaN</td>\n",
       "      <td>0.585903</td>\n",
       "      <td>0.489796</td>\n",
       "      <td>0.096107</td>\n",
       "      <td>16.40</td>\n",
       "      <td>NaN</td>\n",
       "      <td>13.0</td>\n",
       "      <td>NaN</td>\n",
       "    </tr>\n",
       "    <tr>\n",
       "      <th>6</th>\n",
       "      <td>knn_uniform</td>\n",
       "      <td>NaN</td>\n",
       "      <td>0.612335</td>\n",
       "      <td>0.459184</td>\n",
       "      <td>0.153151</td>\n",
       "      <td>25.01</td>\n",
       "      <td>NaN</td>\n",
       "      <td>7.0</td>\n",
       "      <td>NaN</td>\n",
       "    </tr>\n",
       "    <tr>\n",
       "      <th>5</th>\n",
       "      <td>knn_uniform</td>\n",
       "      <td>NaN</td>\n",
       "      <td>0.621145</td>\n",
       "      <td>0.459184</td>\n",
       "      <td>0.161962</td>\n",
       "      <td>26.07</td>\n",
       "      <td>NaN</td>\n",
       "      <td>6.0</td>\n",
       "      <td>NaN</td>\n",
       "    </tr>\n",
       "    <tr>\n",
       "      <th>4</th>\n",
       "      <td>knn_uniform</td>\n",
       "      <td>NaN</td>\n",
       "      <td>0.634361</td>\n",
       "      <td>0.428571</td>\n",
       "      <td>0.205790</td>\n",
       "      <td>32.44</td>\n",
       "      <td>NaN</td>\n",
       "      <td>5.0</td>\n",
       "      <td>NaN</td>\n",
       "    </tr>\n",
       "  </tbody>\n",
       "</table>\n",
       "</div>"
      ],
      "text/plain": [
       "     model_type  depth  train_accuracy  validate_accuracy  difference  \\\n",
       "10  knn_uniform    NaN        0.550661           0.551020   -0.000360   \n",
       "7   knn_uniform    NaN        0.594714           0.540816    0.053897   \n",
       "8   knn_uniform    NaN        0.581498           0.530612    0.050886   \n",
       "13  knn_uniform    NaN        0.585903           0.520408    0.065495   \n",
       "11  knn_uniform    NaN        0.555066           0.510204    0.044862   \n",
       "9   knn_uniform    NaN        0.585903           0.510204    0.075699   \n",
       "12  knn_uniform    NaN        0.585903           0.489796    0.096107   \n",
       "6   knn_uniform    NaN        0.612335           0.459184    0.153151   \n",
       "5   knn_uniform    NaN        0.621145           0.459184    0.161962   \n",
       "4   knn_uniform    NaN        0.634361           0.428571    0.205790   \n",
       "\n",
       "    percent_diff  min_samples_leaf  n_nearest_neighbor   C  \n",
       "10         -0.07               NaN                11.0 NaN  \n",
       "7           9.06               NaN                 8.0 NaN  \n",
       "8           8.75               NaN                 9.0 NaN  \n",
       "13         11.18               NaN                14.0 NaN  \n",
       "11          8.08               NaN                12.0 NaN  \n",
       "9          12.92               NaN                10.0 NaN  \n",
       "12         16.40               NaN                13.0 NaN  \n",
       "6          25.01               NaN                 7.0 NaN  \n",
       "5          26.07               NaN                 6.0 NaN  \n",
       "4          32.44               NaN                 5.0 NaN  "
      ]
     },
     "execution_count": 17,
     "metadata": {},
     "output_type": "execute_result"
    }
   ],
   "source": [
    "summary[(summary.model_type == 'random_forests') | (summary.model_type == 'knn_uniform')].sort_values(by='validate_accuracy', ascending= False).head(10)"
   ]
  },
  {
   "cell_type": "markdown",
   "id": "ac15db1c",
   "metadata": {},
   "source": [
    "### Takeaway:\n",
    "* KNN seemed to perform the best without overfitting. Choosing KNN with n = 11 for final model."
   ]
  },
  {
   "cell_type": "code",
   "execution_count": 7,
   "id": "c4c49e11",
   "metadata": {},
   "outputs": [
    {
     "name": "stdout",
     "output_type": "stream",
     "text": [
      "Train Accuracy: 55.07%\n",
      "Validate Accuracy: 55.1%\n"
     ]
    }
   ],
   "source": [
    "utilities.train_val_test_knn(train,validate, test)"
   ]
  },
  {
   "cell_type": "markdown",
   "id": "f05ebad8",
   "metadata": {},
   "source": [
    "## Train And Validate Accuracy as n Nearest Neighbors Increases"
   ]
  },
  {
   "cell_type": "code",
   "execution_count": 8,
   "id": "16098b5c",
   "metadata": {},
   "outputs": [
    {
     "data": {
      "image/png": "[encoded data removed]",
      "text/plain": [
       "<Figure size 432x288 with 1 Axes>"
      ]
     },
     "metadata": {
      "needs_background": "light"
     },
     "output_type": "display_data"
    }
   ],
   "source": [
    "results = utilities.create_results(train, validate, test)\n",
    "utilities.plot_results(results)"
   ]
  },
  {
   "cell_type": "markdown",
   "id": "6b452773",
   "metadata": {},
   "source": [
    "## Takeaway:\n",
    "* Train and Validate seem to be close at n = 11 having nearly 55% accuracy. \n",
    "* This model is being chosen to work on the test set."
   ]
  },
  {
   "cell_type": "markdown",
   "id": "12053954",
   "metadata": {},
   "source": [
    "## Test Set Performance"
   ]
  },
  {
   "cell_type": "code",
   "execution_count": 9,
   "id": "a32af956",
   "metadata": {},
   "outputs": [
    {
     "name": "stdout",
     "output_type": "stream",
     "text": [
      "Test Accuracy: 52.44%\n"
     ]
    }
   ],
   "source": [
    "# Test with knn, n = 11\n",
    "knn = KNeighborsClassifier(n_neighbors=11)\n",
    "\n",
    "# create train and test sets to test below\n",
    "x_train, y_train, x_validate, y_validate, x_test, y_test = md.xy_train_validate_test(train, validate, test, 'programming_language_99')\n",
    "\n",
    "# fit model on train, then predict on test\n",
    "knn = knn.fit(x_train, y_train)\n",
    "test_prediction = knn.predict(x_test)\n",
    "print(f'Test Accuracy: {round(knn.score(x_test, y_test), 4) * 100}%')"
   ]
  },
  {
   "cell_type": "markdown",
   "id": "336a46fe",
   "metadata": {},
   "source": [
    "## Modeling Takeaways:"
   ]
  },
  {
   "cell_type": "markdown",
   "id": "7b79b6e3",
   "metadata": {},
   "source": [
    "> * Test set accuracy was **52.44%**, beating baseline by **192%**\n",
    "> * **KNN** was the most accurate model type, without overfitting\n",
    "> * Encoded dataframe includes **all words, bigrams** and **trigrams**\n",
    "\n"
   ]
  },
  {
   "cell_type": "markdown",
   "id": "6b66aca2",
   "metadata": {},
   "source": [
    "## Conclusion:\n",
    "\n",
    "> * Python, C++, and Java were the three most popular programming languages used when dealing with Cryptography.\n",
    "> * The most common words that were used across all the README files were:\n",
    "    key, use/using, build, cryptography, test, crypto, library, hash, function, io\n",
    "> * The top 10 words account for 5% of the words found in README files.\n",
    "> * key , cryptography, crypto, and hash were the most frequently used words that are related with Cryptography\n",
    "> * Our K Nearest Neighbor model beat baseline with a test sample accuracy of 52.44%, which is a 192% increase in accuracy when compared to baseline.\n",
    "\n",
    "### With More Time:\n",
    "\n",
    "> * Gather more README files to expand the dataset.\n",
    "> * See if there has been a shift in most frequently used programming languages, or if Python has always been the most frequently used.\n",
    "> * See if the most frequently used words has changed over time\n"
   ]
  },
  {
   "cell_type": "code",
   "execution_count": null,
   "id": "405ad000",
   "metadata": {},
   "outputs": [],
   "source": []
  }
 ],
 "metadata": {
  "kernelspec": {
   "display_name": "Python 3 (ipykernel)",
   "language": "python",
   "name": "python3"
  },
  "language_info": {
   "codemirror_mode": {
    "name": "ipython",
    "version": 3
   },
   "file_extension": ".py",
   "mimetype": "text/x-python",
   "name": "python",
   "nbconvert_exporter": "python",
   "pygments_lexer": "ipython3",
   "version": "3.9.7"
  }
 },
 "nbformat": 4,
 "nbformat_minor": 5
}
